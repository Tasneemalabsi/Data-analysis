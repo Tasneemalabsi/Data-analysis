{
 "cells": [
  {
   "cell_type": "code",
   "execution_count": 3,
   "metadata": {},
   "outputs": [],
   "source": [
    "import pandas as pd"
   ]
  },
  {
   "cell_type": "code",
   "execution_count": 43,
   "metadata": {},
   "outputs": [
    {
     "name": "stderr",
     "output_type": "stream",
     "text": [
      "/home/user/course401/Data Analysis/.venv/lib/python3.9/site-packages/IPython/core/interactiveshell.py:3444: FutureWarning: The error_bad_lines argument has been deprecated and will be removed in a future version.\n",
      "\n",
      "\n",
      "  exec(code_obj, self.user_global_ns, self.user_ns)\n",
      "b'Skipping line 50794: expected 12 fields, saw 20\\n'\n"
     ]
    }
   ],
   "source": [
    "df = pd.read_csv('./trip.csv', error_bad_lines=False)\n",
    "# df"
   ]
  },
  {
   "cell_type": "code",
   "execution_count": 44,
   "metadata": {},
   "outputs": [],
   "source": [
    "df2=pd.read_csv('./station.csv')\n",
    "# df2"
   ]
  },
  {
   "cell_type": "code",
   "execution_count": 78,
   "metadata": {},
   "outputs": [],
   "source": [
    "df3=pd.read_csv('./weather.csv')\n",
    "# df3"
   ]
  },
  {
   "cell_type": "markdown",
   "metadata": {},
   "source": [
    "## What is the average trip duration for a borrowed bicycle? ?"
   ]
  },
  {
   "cell_type": "code",
   "execution_count": 37,
   "metadata": {},
   "outputs": [
    {
     "data": {
      "text/plain": [
       "1178.2956753399776"
      ]
     },
     "execution_count": 37,
     "metadata": {},
     "output_type": "execute_result"
    }
   ],
   "source": [
    "average_trip_duration=df['tripduration'].mean()\n",
    "average_trip_duration"
   ]
  },
  {
   "cell_type": "markdown",
   "metadata": {},
   "source": [
    "## What’s the most common age of a bicycle-sharer?"
   ]
  },
  {
   "cell_type": "code",
   "execution_count": 12,
   "metadata": {},
   "outputs": [
    {
     "name": "stdout",
     "output_type": "stream",
     "text": [
      "34.0\n"
     ]
    }
   ],
   "source": [
    "common_age = df['birthyear'].mode()\n",
    "print(2021-common_age[0])"
   ]
  },
  {
   "cell_type": "markdown",
   "metadata": {},
   "source": [
    "## Given all the weather data here, find the average precipitation per month, and the median precipitation."
   ]
  },
  {
   "cell_type": "code",
   "execution_count": 77,
   "metadata": {},
   "outputs": [
    {
     "name": "stdout",
     "output_type": "stream",
     "text": [
      "       month  Precipitation_In\n",
      "month                         \n",
      "1        1.0          0.143548\n",
      "2        2.0          0.168421\n",
      "3        3.0          0.156935\n",
      "4        4.0          0.051333\n",
      "5        5.0          0.012419\n",
      "6        6.0          0.030500\n",
      "7        7.0          0.012097\n",
      "8        8.0          0.018226\n",
      "9        9.0          0.041000\n",
      "10      10.0          0.189000\n",
      "11      11.0          0.187833\n",
      "12      12.0          0.236290\n",
      "       month  Precipitation_In\n",
      "month                         \n",
      "1        1.0             0.020\n",
      "2        2.0             0.040\n",
      "3        3.0             0.025\n",
      "4        4.0             0.000\n",
      "5        5.0             0.000\n",
      "6        6.0             0.000\n",
      "7        7.0             0.000\n",
      "8        8.0             0.000\n",
      "9        9.0             0.000\n",
      "10      10.0             0.040\n",
      "11      11.0             0.035\n",
      "12      12.0             0.100\n"
     ]
    }
   ],
   "source": [
    "df3['month'] = pd.DatetimeIndex(df3['Date']).month\n",
    "average_precipitation=df3[['month','Precipitation_In']].groupby(df3.month).mean()\n",
    "print(average_precipitation)\n",
    "median_precipitation=df3[['month','Precipitation_In']].groupby(df3.month).median()\n",
    "print(median_precipitation)\n",
    "\n"
   ]
  },
  {
   "cell_type": "markdown",
   "metadata": {},
   "source": [
    "## What’s the average number of bikes at a given bike station?\n"
   ]
  },
  {
   "cell_type": "code",
   "execution_count": 14,
   "metadata": {},
   "outputs": [
    {
     "data": {
      "text/plain": [
       "16.517241379310345"
      ]
     },
     "execution_count": 14,
     "metadata": {},
     "output_type": "execute_result"
    }
   ],
   "source": [
    "average_bikes_number=df2['current_dockcount'].mean()\n",
    "average_bikes_number"
   ]
  },
  {
   "cell_type": "markdown",
   "metadata": {},
   "source": [
    "## When a bike station is modified, is it more likely that it’ll lose bikes or gain bikes? How do you know?"
   ]
  },
  {
   "cell_type": "code",
   "execution_count": 22,
   "metadata": {},
   "outputs": [
    {
     "name": "stdout",
     "output_type": "stream",
     "text": [
      "lost bikes equals to  1.0689655172413772\n",
      "it will most likely lose bikes, because the average of install bikes number is larger than the average of current bikes\n"
     ]
    }
   ],
   "source": [
    "average_bikes_install_number=df2['install_dockcount'].mean()\n",
    "average_bikes_install_number\n",
    "lost_bikes = average_bikes_install_number - average_bikes_number\n",
    "print('lost bikes equals to ',lost_bikes)\n",
    "print(\"it will most likely lose bikes, because the average of install bikes number is larger than the average of current bikes\") "
   ]
  },
  {
   "cell_type": "markdown",
   "metadata": {},
   "source": [
    "## Come up with 3 more questions that can be answered with this data set."
   ]
  },
  {
   "cell_type": "markdown",
   "metadata": {},
   "source": [
    "### Q1: what is the gender that does cycling more ?"
   ]
  },
  {
   "cell_type": "code",
   "execution_count": 20,
   "metadata": {},
   "outputs": [
    {
     "data": {
      "text/plain": [
       "'Male'"
      ]
     },
     "execution_count": 20,
     "metadata": {},
     "output_type": "execute_result"
    }
   ],
   "source": [
    "most_common_gender = df['gender'].mode()[0]\n",
    "most_common_gender"
   ]
  },
  {
   "cell_type": "markdown",
   "metadata": {},
   "source": [
    "### Q2: what is the average difference between min and max humidity?"
   ]
  },
  {
   "cell_type": "code",
   "execution_count": 38,
   "metadata": {},
   "outputs": [
    {
     "data": {
      "text/plain": [
       "34.56748911465893"
      ]
     },
     "execution_count": 38,
     "metadata": {},
     "output_type": "execute_result"
    }
   ],
   "source": [
    "average_range_of_humidity = df3['Max_Humidity'].mean()-df3['Min_Humidity'].mean()\n",
    "average_range_of_humidity\n"
   ]
  },
  {
   "cell_type": "markdown",
   "metadata": {},
   "source": [
    "### Q3: what is age of the oldest rider?"
   ]
  },
  {
   "cell_type": "code",
   "execution_count": 36,
   "metadata": {},
   "outputs": [
    {
     "name": "stdout",
     "output_type": "stream",
     "text": [
      "90.0\n"
     ]
    }
   ],
   "source": [
    "oldest_rider=df['birthyear'].min()\n",
    "print(2021-oldest_rider)"
   ]
  },
  {
   "cell_type": "markdown",
   "metadata": {},
   "source": [
    "## User Acceptance Tests\n"
   ]
  },
  {
   "cell_type": "code",
   "execution_count": 76,
   "metadata": {},
   "outputs": [
    {
     "name": "stdout",
     "output_type": "stream",
     "text": [
      "Success!!!\n"
     ]
    }
   ],
   "source": [
    "def test():\n",
    "\n",
    "    def assert_equal(actual,expected):\n",
    "        assert actual == expected, f\"Expected {expected} but got {actual}\"\n",
    "\n",
    "    assert_equal(average_trip_duration, 1178.2956753399776)\n",
    "    assert_equal(2021-common_age[0], 34.0)\n",
    "    assert_equal(average_precipitation.median()[1], 0.09744086021505377)\n",
    "    assert_equal(median_precipitation.mean()[1], 0.021666666666666667)\n",
    "    assert_equal(average_bikes_number, 16.517241379310345)\n",
    "    assert_equal(lost_bikes, 1.0689655172413772)\n",
    "    assert_equal(most_common_gender, 'Male')\n",
    "    assert_equal(average_range_of_humidity, 34.56748911465893)\n",
    "    assert_equal(2021-oldest_rider, 90.0)\n",
    "\n",
    "    print(\"Success!!!\")\n",
    "test()    "
   ]
  }
 ],
 "metadata": {
  "interpreter": {
   "hash": "ab9b4d2b5dbdaa4588d87a9883eadfa1f78396ed6951adc3ad2f5a682fce3075"
  },
  "kernelspec": {
   "display_name": "Python 3.9.5 64-bit ('.venv': poetry)",
   "name": "python3"
  },
  "language_info": {
   "codemirror_mode": {
    "name": "ipython",
    "version": 3
   },
   "file_extension": ".py",
   "mimetype": "text/x-python",
   "name": "python",
   "nbconvert_exporter": "python",
   "pygments_lexer": "ipython3",
   "version": "3.9.5"
  },
  "orig_nbformat": 4
 },
 "nbformat": 4,
 "nbformat_minor": 2
}
